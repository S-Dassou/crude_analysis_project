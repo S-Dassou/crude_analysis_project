{
 "cells": [
  {
   "cell_type": "markdown",
   "metadata": {},
   "source": [
    "## Summary"
   ]
  },
  {
   "cell_type": "markdown",
   "metadata": {},
   "source": [
    "We conclude our analysis by summarising each of the 3 periods (2017 - 2019, 2020 - 2022, and 2023 - 2025) individually and then as a whole. "
   ]
  },
  {
   "cell_type": "markdown",
   "metadata": {},
   "source": [
    "##### Intro to Summary\n",
    "\n",
    "Markets are reflexive. There is a perpetual feedback loop between market prices and the fundamentals behind them, as well as between perception and reality. In classical economics we are taught that markets are efficient and that prices reflect all known information. In reality, participants act on imperfect information, biases, and future expectations. These acts shape financial markets and influence the fundamental factors that determine prices. \n",
    "\n",
    "This analysis will seek to explore how fluctuations in crude oil prices drive floating storage levels and how, in turn, the buildup or drawdown of that storage affects price dynamics. By examining periods of extreme volatility (for example the 2020 oil market crash) we can observe how the expectations of traders shape storage decisions, and how those decisions feed back into the market via supply constraints or surpluses.\n",
    "\n",
    "To begin, we define what floating storage is and it's role in the supply of crude oil. We then analyse the relationship between crude oil and floating storage over the course of three, individual periods. To conclude, we analyse the periods together, holistically, to draw our deductions. "
   ]
  },
  {
   "cell_type": "markdown",
   "metadata": {},
   "source": [
    "#### What is Floating Storage and why does it matter? \n",
    "\n",
    "Floating storage refers to crude oil that is stored on ships. Vortexa defines floating storage as crude-oil cargoes on board vessels that have remained stationary for at least 7 calendar days. FPSO and long-term FSO units (such as those in place for years) are excluded. Floating storage can be seen as a buffer and a signal in the global oil supply chain in that it can temporarily remove oil from active supply, whilst also being able to add to the active supply without the need for new production. \n",
    "\n",
    "Typically, when the storage of a commodity is high, it can indicate that traders expect future prices to rise. In essence, floating storage serves as a flexible supply buffer as well as an indicator of market sentiment. "
   ]
  },
  {
   "cell_type": "markdown",
   "metadata": {},
   "source": [
    "#### Period 1 (2017 - 2019)\n",
    "We began our analysis examining the cross correlation between the following variables; \n",
    "\n",
    "- Calendar Spread & Floating Storage\n",
    "The correlation increases steadily with lag reaching a maximum of roughly 0.60 at 100 days. This suggests that calendar spreads lead floating storage, thus implying that traders respond to widening spreads (i.e. contango) by increasing floating storage levels. \n",
    "\n",
    "- Floating Storage & Calendar Spread \n",
    "Correlation decreases with lag, peaking at lag 0 and reaching a minimum value of roughly 0.20 at 100 days. This would suggest that floating storage has a weakening and decaying influence on spreads over time, indicating asymmetry in the relationship. \n",
    "\n",
    "- Spot Prices & Floating Storage \n",
    "Correlation is negative across all lags, with its strongest influence at lag 0. The relationship declines in strength over time as it gradually increases to a high value of 0.56. Falling spot prices likely influence higher storage levels as traders would rather increase buffer supplies and wait for the market to recover in the short term. \n",
    "\n",
    "- Floating Storage & Spot Prices \n",
    "This relationship also displays a negative correlation but it is weaker and rises less abruptly. This might suggest that large storage volumes exert some downward pressure on prices but not as strongly or immediately.\n",
    "\n",
    "We then examined the autocorrelation for each variable. We found the following: \n",
    "\n",
    "- Floating storage and calendar spread decline more rapidly than spot prices in the short term, relative to spot prices.\n",
    "- Spot prices display an almost linear decay which might indicate a faster reversion. Whilst useful, we'll need to combine this statistical interpretation with further tests to determine if there's any relationship between historical prices/volumes on future market dynamics.\n",
    "\n",
    "\n",
    "Finally, we observed the granger causality in order to determine any (granger) causality between each paired variable. \n",
    "\n",
    "Our results showed p values < 0.05 across both 1 and 2 lags, suggesting that traders respond to changes in the forward curve structure when making storage decisions. \n",
    "\n",
    "Plotting each of the 3 variables against each other allows us to analyse if there is any granger causality between each of the three. \n",
    "\n",
    "- Calendar Spead -> Floating Storage\n",
    "There's some significance in the immediate short term (lags < 5) and thereafter between lags 30-45. In between these lags, p-values are insignificant. We can interpret this as calendar spreads granger-causing floating storage in the immediate short term. This might be interpreted as calendar spreads being an influential short term signal for traders in their short term storage strategies.  \n",
    "\n",
    "- Floating Storage -> Calendar Spread\n",
    "We see some significance between lags 5 - 15 which can indicate some initial feedback from floating storage to spreads but it quickly dissipates. It seems spreads drive floating storage over longer periods, whilst floating storage volumes have a minimal effect on calendar spreads. \n",
    "\n",
    "- Spot Prices -> Floating Storage \n",
    "P-values start below 0.05 indicating some short term predictive power of spot prices on storage levels. This decays quite rapidly above lags of 10, showing that any influence is short lived. Floating storage operators might react in the very short term to price changes but over the long term, it would be difficult to show any predictive power between spot prices and storage. \n",
    "\n",
    "- Floating Storage -> Spot Prices\n",
    "Interestingly, we have p-values holding significance between lags of 45 - 100. This might tell us that markets are influenced by floating storage supply levels over a longer lag.\n",
    "\n",
    "- Spot Prices -> Calendar Spread\n",
    "The granger causality is significant at very low lags (1-3), then becomes non-significant between lags 5-30. It regains significance between 30 - 45 before becoming non-significant again. It seems spot prices can have an immediate yet tempermental effect on calendar spreads. This might be due to macroeconomic news shifting future expectations of crude oil before it is able to revert to its mean. \n",
    "\n",
    "- Calendar Spread -> Spot Prices\n",
    "P-values are significant almost immediately and remain significant until lag 60. We can interpet this has calendar spreads having a strong influence and granger causality on spot prices. \n",
    "According to our analysis here, market expectations of the future prices of a commodity have a guiding influence on the spot price discovery. This is a strong example of reflexivity. \n",
    "\n",
    "\n"
   ]
  },
  {
   "cell_type": "markdown",
   "metadata": {},
   "source": [
    "#### Period 2 (2020 - 2022)\n",
    "\n",
    "##### Introduction\n",
    "This period was infamously characterised by COVID. Crude prices experienced an unprecendented period of negative prices - supply gluts meant floating storage providers had no choice but to pay to shift crude. \n",
    "\n",
    "We define the covid period as being between 1/1/2020 and 31/12/2022. We have made this inference through the CDC's website - whilst the outbreak was first documented as novel on January 7th, COVID screening and spread began mid-January. By January 23rd, Wuhan, China, a city of 11 million is placed under lockdown. \n",
    "\n",
    "December 2020 saw the roll out of the rapidly formulated and released COVID vaccine in the US, with 1 million vaccines being administered in 10 days. \n",
    "\n",
    "By mid-2022 the US population is >50% vaccinated across all age groups over 10. We will consider the end of 2022 as the end of the COVID period.\n",
    "\n",
    "In order to maintain consistency in our analysis, we removed periods containing negative prices. \n",
    "\n",
    "\n",
    "##### Analysis\n",
    "###### Correlations\n",
    "\n",
    "- Calendar Spread & Floating Storage: \n",
    "Here we see a near identical pattern to our baseline period (2017 - 2019). Calendar spreads are positively correlated and the strength of correlation reaches its maximum value of 0.65 at approximately 65 days lag. \n",
    "\n",
    "- Floating Storage & Calendar Spread: \n",
    "A similar story to our baseline period where correlation is positive and steadily decreasing as lags increase. \n",
    "\n",
    "- Spot Prices & Floating Storage: \n",
    "Similar to our baseline period, the correlation co-efficient between spot prices and floating storage remains negative throughout all lags. However, it seems the relationship increases in strength as lags increase. This may indicate that spot prices have a greater influence on floating storage decisions in the medium-long term during this period of instability. \n",
    "\n",
    "- Floating Storage & Spot Prices: \n",
    "The trend of decreasing negative correlation remains consistent during this period. \n",
    "\n",
    "###### Autocorrelation\n",
    "Spot prices remain highly persistent showing little sign of decay - they remain above 0.8 even after 100 days. Highly autocorrelated prices throughout the lags show that they maintained their trend over long timeframes. If we observe the spot market during that period, crude prices positively trended from April 2020 through to July 2022. Following the notorious negative price in early 2020, they eventually regained their previous peak (November 2018) of $85 in February 2022 - a long road to recovery. \n",
    "\n",
    "In contrast, floating storage declined far more rapidly compared to the previous period. Whilst it's decay was not as sharp as calendar spread, it was a more persistent decay, with its correlation coefficient reaching 0.2 after 100 days. This might suggest that floating storage decisions were far more reactive, volatile, and quick to respond to new market information that shaped the period. \n",
    "\n",
    "From a market structure standpoint, this period featured more persistent spot price trends, floating storage levels that were more reactive, and calendar spreads that adjusted rapidly to new information. This is consistent with the idea that expectations of the market were volatile, and prices and spreads became decoupled at times. \n",
    "\n",
    "\n",
    "###### Granger Causality Analysis\n",
    "Our granger causality analysis showed that calendar spreads granger caused floating storage at short, 1 day lags. However, influence quickly weakened at 2 day lags, suggesting that the predictive power of calendar spreads was short lived. \n",
    "\n",
    "This could be indicative of the extremely reactive nature of this period with storage decisions having to be made rapidly due to extreme market moves and logistical challenges. \n",
    "\n",
    "Our Granger Causality analysis between each of the three variables (calendar spread, floating storage, spot prices) did not yield significant results, especially at larger lags. This is telling of a period shaped by unprecedented market events. Perhaps fundamentals were reacting to sentiment surrounding the pandemic - expectations influence prices but prices may not always feedback into expectations. \n",
    "\n",
    "During this period, floating storage had little causal power and our analysis does not shed much light unto the variable causing its movements. At this point, it is unclear how or why floating storage operators made their constructed their strategy. Was it tactile or was it a passive response to the anarchy surrounding the markets? \n",
    "\n"
   ]
  },
  {
   "cell_type": "markdown",
   "metadata": {},
   "source": [
    "#### Period 3 (2023 - Present Day)\n",
    "\n",
    "January 2023 would mark the beginning of the end of the COVID period with travel and economic demand starting to see a return to pre-pandemic levels. \n",
    "\n",
    "Whilst the memory of COVID is psychologically engrained in many market participants, have the effects of the pandemic left lasting scars on the markets?\n",
    "\n",
    "\n",
    "##### Analysis\n",
    "###### Correlations\n",
    "\n",
    "- Calendar Spread <--> Floating Storage\n",
    "These two plots exhibited near identical shapes to the 2017 - 2019 period. With Calendar Spread -> Floating Storage remaining positive throughout all lags and gradually increasing over time. The relationship between Floating Storage -> Calendar Spread weakened with time. \n",
    "\n",
    "- Spot Prices <--> Floating Storage\n",
    "Spot Prices -> Floating Storage exhibited an interesting U-shaped structure, starting positive, before turning negative after 10 days. They then slowly increased up to 0.0 at 70 days. This U-shaped structure suggests that an initial negative price shock may decrease storage levels due to demand fears. That being said, correlations are weak throughout all lags and it would be difficult to draw concrete conclusions from this. \n",
    "\n",
    "###### Autocorrelations\n"
   ]
  },
  {
   "cell_type": "markdown",
   "metadata": {},
   "source": [
    "Spot prices decay the fastest, reflecting the volatile nature of the markets during this period. \n",
    "Calendar spread and floating storage maintain a similar level of persistence, reflecting the inertia of floating storage decisions. "
   ]
  },
  {
   "cell_type": "markdown",
   "metadata": {},
   "source": [
    "###### Granger Causality Analysis\n",
    "\n",
    "Our granger causality analysis showed that across both lags, p-values were above 0.05. This indicates that calendar spreads did not granger-cause floating storage at these lags. \n",
    "\n",
    "A breakdown of granger causality from calendar spreads to floating storage here suggests a decoupling in the relationship. This is unlike earlier periods whereby the forward curve signals would drive storage decisions in a statistically significant manner. "
   ]
  },
  {
   "cell_type": "markdown",
   "metadata": {},
   "source": [
    "#### Holistically (2017 - Present Day)"
   ]
  },
  {
   "cell_type": "markdown",
   "metadata": {},
   "source": [
    "Over a ~8 year horizon, trends in cross correlations remain trending in the same direction, albeit with lower strength. \n",
    "\n",
    "Interestingly, one notable change is the rapid deterioration in autocorrelation of calendar spreads, indicating that, over a longer time horizon, its direction is far less predictable. \n",
    "\n",
    "Our Granger-causality analysis showed that over larger lags (60+ days) and in the immediate short term, calendar spreads Granger-caused floating storage decisions. This can be interpreted as floating storage operators responding to periods of contango immediately by increasing levels of floating storage and also gradually tweaking their strategy over longer periods in response to price trend changes. "
   ]
  },
  {
   "cell_type": "markdown",
   "metadata": {},
   "source": [
    "### Conclusion"
   ]
  },
  {
   "cell_type": "markdown",
   "metadata": {},
   "source": [
    "Our baseline period (2017 - 2019) showed that expectations (reflected by calendar spreads) drove decisions in floating storage in the immediate short term and medium term, whilst floating storage fedback into pricing over longer term lags. \n",
    "\n",
    "The period 2020 - 2022 was defined by the COVID pandemic, the oil price crash and extreme storage constraints. Reflexivity during this period was hyper compressed. Expectations shifted rapidly and traders responded almost instantly. Calendar spread evolved from being merely a signal to a command input, driving market behaviour. Floating storage, on the other hand, had minimal causal power. \n",
    "\n",
    "Interestingly the 2023 - 2025 period witnessed a decoupling of this relationship. There was no strong statistical evidence that one market component could predict or cause the other. Instead, the market structure appears to be more complex. This is perhaps driven by market participants being increasingly wary and strategic in decisions. \n",
    "\n",
    "George Soros's theory of reflexivity states that market expectations and fundamentals (prices) are locked in a feedback loop whereby perceptions influence behaviour, behaviour shapes prices and prices shape perceptions. Granger Causality provides us with a quantifiable way to test this dynamic in that if one variable can help us to predict another, then a reflexive link may exist. \n",
    "\n",
    "In hindsight, it seems that Soros's theory of reflexivity isn't static across all periods. It is visible during periods of maturity and diminishes in periods of crises; in 2017-19 calendar spreads granger caused storage levels, in turn storage levels granger-caused spot prices (over larger lags), and spot prices showed some influence in Granger-causing calendar spreads (expectations).\n",
    "\n",
    "During the pandemic and thereafter this feedback loop dissipated. Floating storage appeared to be a passive mechanism in our loop. This may be due to supply chain dynamics increasing in complexity following chaos in real world events. Markets were likely driven by news events, with floating storage decisions being an impressionable passenger during the tumultuous ride. "
   ]
  },
  {
   "cell_type": "markdown",
   "metadata": {},
   "source": []
  }
 ],
 "metadata": {
  "language_info": {
   "name": "python"
  }
 },
 "nbformat": 4,
 "nbformat_minor": 2
}
